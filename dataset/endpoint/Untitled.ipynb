{
 "cells": [
  {
   "cell_type": "code",
   "execution_count": 1,
   "id": "bd16c3c5",
   "metadata": {},
   "outputs": [
    {
     "name": "stdout",
     "output_type": "stream",
     "text": [
      "Sample hand generated data Negative .txt\r\n",
      "Sample hand generated data.txt\r\n",
      "Untitled.ipynb\r\n",
      "generate_data.py\r\n",
      "new_data_negative_user1.txt\r\n",
      "new_data_negative_user1_type2_first_scentence_incomplete.txt\r\n",
      "new_data_negative_user2.txt\r\n",
      "new_data_negative_user2_type2_first_scentence_incomplete.txt\r\n",
      "new_data_user1.txt\r\n",
      "new_data_user2.txt\r\n"
     ]
    }
   ],
   "source": [
    "!ls"
   ]
  },
  {
   "cell_type": "code",
   "execution_count": 2,
   "id": "1482f88b",
   "metadata": {},
   "outputs": [],
   "source": [
    "word2idx = {\"<WORD>\": 0, # normal words\n",
    "            \"<SSEN>\": 1, # start of sentence\n",
    "            \"<ECON>\": 2, # end of context\n",
    "            \"<PAD>\" : 3, # padding token\n",
    "            }"
   ]
  },
  {
   "cell_type": "code",
   "execution_count": 28,
   "id": "495191b3",
   "metadata": {},
   "outputs": [],
   "source": [
    "with open(\"sample_positive.txt\", \"r\") as f:\n",
    "    data = f.readlines()\n",
    "    res = []\n",
    "    tgt = []\n",
    "    for line in data:\n",
    "        line = line.replace(\"\\n\", \"\")\n",
    "        tmp = line.split(\"<ECON>\")\n",
    "        res += [i.strip().replace(\".\", \"\").replace(\",\", \"\").lower() for i in tmp if len(i) > 0]\n",
    "        \n",
    "    for line in res:\n",
    "        tokens = line.split(\" \")\n",
    "        tmp = [\"<SSEN>\"] + [\"<WORD>\"]*(len(tokens)-2) + [\"<ECON>\"]\n",
    "        tgt.append(\" \".join(tmp))"
   ]
  },
  {
   "cell_type": "code",
   "execution_count": 30,
   "id": "4fc186b9",
   "metadata": {},
   "outputs": [
    {
     "data": {
      "text/plain": [
       "81"
      ]
     },
     "execution_count": 30,
     "metadata": {},
     "output_type": "execute_result"
    }
   ],
   "source": [
    "len(tgt)"
   ]
  },
  {
   "cell_type": "code",
   "execution_count": 31,
   "id": "0e36c0cb",
   "metadata": {},
   "outputs": [
    {
     "data": {
      "text/plain": [
       "81"
      ]
     },
     "execution_count": 31,
     "metadata": {},
     "output_type": "execute_result"
    }
   ],
   "source": [
    "len(res)"
   ]
  },
  {
   "cell_type": "code",
   "execution_count": 40,
   "id": "4a4e369b",
   "metadata": {},
   "outputs": [],
   "source": [
    "with open(\"seq_source.txt\", \"w\") as f:\n",
    "    for line in res:\n",
    "        f.write(line)\n",
    "        f.write(\"\\n\")"
   ]
  },
  {
   "cell_type": "code",
   "execution_count": 41,
   "id": "a4fe19c4",
   "metadata": {},
   "outputs": [],
   "source": [
    "with open(\"seq_target.txt\", \"w\") as f:\n",
    "    for line in tgt:\n",
    "        f.write(line)\n",
    "        f.write(\"\\n\")"
   ]
  },
  {
   "cell_type": "code",
   "execution_count": null,
   "id": "460d7348",
   "metadata": {},
   "outputs": [],
   "source": []
  }
 ],
 "metadata": {
  "kernelspec": {
   "display_name": "Python 3 (ipykernel)",
   "language": "python",
   "name": "python3"
  },
  "language_info": {
   "codemirror_mode": {
    "name": "ipython",
    "version": 3
   },
   "file_extension": ".py",
   "mimetype": "text/x-python",
   "name": "python",
   "nbconvert_exporter": "python",
   "pygments_lexer": "ipython3",
   "version": "3.8.9"
  }
 },
 "nbformat": 4,
 "nbformat_minor": 5
}
